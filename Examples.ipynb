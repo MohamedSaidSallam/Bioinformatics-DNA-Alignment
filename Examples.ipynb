{
 "metadata": {
  "language_info": {
   "codemirror_mode": {
    "name": "ipython",
    "version": 3
   },
   "file_extension": ".py",
   "mimetype": "text/x-python",
   "name": "python",
   "nbconvert_exporter": "python",
   "pygments_lexer": "ipython3",
   "version": "3.9.1"
  },
  "orig_nbformat": 2,
  "kernelspec": {
   "name": "python391jvsc74a57bd0dbb3fa5922664cd28d51d13a1f08c3b7ce11b608325f201cf6cc6cb65d1d0906",
   "display_name": "Python 3.9.1 64-bit ('venv': venv)"
  }
 },
 "nbformat": 4,
 "nbformat_minor": 2,
 "cells": [
  {
   "source": [
    "## Dot Matrix (Window)"
   ],
   "cell_type": "markdown",
   "metadata": {}
  },
  {
   "cell_type": "code",
   "execution_count": 1,
   "metadata": {},
   "outputs": [
    {
     "output_type": "stream",
     "name": "stdout",
     "text": [
      " |A|C|C|T|T|G|T|C|C|T|C|T|T|T|G|C|C|C\nA| | | | | | | | | | | | | | | | | | \nC| | | | | | | | | | | | | | | | | | \nG| | | | | | | | | | | | | | | | | | \nT| | | | | | | | | | | | | | | | | | \nT| | | | |x| | | | | | | | |x| | | | \nG| | | | | | | | | | | | | | | | | | \nA| | | | | | | | | | | | | | | | | | \nC| | | | | | | |x| | | | | | | | | | \nC| | | | | | | | | | | | | | | | | | \nT| | | | | | | | | | | | | | | | | | \nG| | | | |x| | | | | |x| | | | | | | \nT| | | | | | | | | | | | | | | | | | \nA| | | | | | | | | | | | | | | | | | \nA| | | | | | | | | | | | | |x| | | | \nC| | | | | | | | | | | | | | | | | | \nC| | | | | | | | | | | | | | | | | | \nT| | | | | | | | | | | | | | | | | | \nC| | | | | | | | | | | | | | | | | | \n"
     ]
    }
   ],
   "source": [
    "from algorithms.globalalignment.dotmatrixwindow import DotMatrixWindowScoring\n",
    "\n",
    "DotMatrixWindowScoring(windowSize=9,\n",
    "                       step=3,\n",
    "                       threshold=4,\n",
    "                       seq1=\"ACCTTGTCCTCTTTGCCC\",\n",
    "                       seq2=\"ACGTTGACCTGTAACCTC\"\n",
    "                       )\n"
   ]
  },
  {
   "source": [
    "## Needleman-Wunch"
   ],
   "cell_type": "markdown",
   "metadata": {}
  },
  {
   "cell_type": "code",
   "execution_count": 2,
   "metadata": {},
   "outputs": [
    {
     "output_type": "stream",
     "name": "stdout",
     "text": [
      " \t|\tj\t|\tA\t|\tC\t|\tG\t|\tC\t|\tT\t|\tG\ni\t|\t0\t|\t-1\t|\t-2\t|\t-3\t|\t-4\t|\t-5\t|\t-6\nC\t|\t-1\t|\t-1\t|\t1\t|\t0\t|\t-1\t|\t-2\t|\t-3\nA\t|\t-2\t|\t1\t|\t0\t|\t0\t|\t-1\t|\t-2\t|\t-3\nT\t|\t-3\t|\t0\t|\t0\t|\t-1\t|\t-1\t|\t1\t|\t0\nG\t|\t-4\t|\t-1\t|\t-1\t|\t2\t|\t1\t|\t0\t|\t3\nT\t|\t-5\t|\t-2\t|\t-2\t|\t1\t|\t1\t|\t3\t|\t2\n\nTraceback:\n\t#1\n\t\tSequence 1: _ACGCTG\n\t\tSequence 2: CATG_T_\n\t#2\n\t\tSequence 1: ACGCTG_\n\t\tSequence 2: _C_ATGT\n\t#3\n\t\tSequence 1: ACGCTG_\n\t\tSequence 2: _CA_TGT\n"
     ]
    }
   ],
   "source": [
    "from algorithms.globalalignment.needlemanwunch import needlemanWunch\n",
    "\n",
    "needlemanWunch(\n",
    "    gapPenalty=-1,\n",
    "    match=2,\n",
    "    misMatch=-1,\n",
    "    seq1=\"ACGCTG\",\n",
    "    seq2=\"CATGT\"\n",
    ")\n"
   ]
  },
  {
   "source": [
    "## Smith-Waterman"
   ],
   "cell_type": "markdown",
   "metadata": {}
  },
  {
   "source": [
    "from algorithms.localalignment.smithwaterman import smithwaterman\n",
    "\n",
    "smithwaterman(\n",
    "    gapPenalty=-6,\n",
    "    match=5,\n",
    "    misMatch=-2,\n",
    "    seq1=\"TGCTCGTA\",\n",
    "    seq2=\"TTCATA\"\n",
    ")\n"
   ],
   "cell_type": "code",
   "metadata": {},
   "execution_count": 3,
   "outputs": [
    {
     "output_type": "stream",
     "name": "stdout",
     "text": [
      " \t|\tj\t|\tT\t|\tG\t|\tC\t|\tT\t|\tC\t|\tG\t|\tT\t|\tA\ni\t|\t0\t|\t0\t|\t0\t|\t0\t|\t0\t|\t0\t|\t0\t|\t0\t|\t0\nT\t|\t0\t|\t5\t|\t0\t|\t0\t|\t5\t|\t0\t|\t0\t|\t5\t|\t0\nT\t|\t0\t|\t5\t|\t3\t|\t0\t|\t5\t|\t3\t|\t0\t|\t5\t|\t3\nC\t|\t0\t|\t0\t|\t3\t|\t8\t|\t2\t|\t10\t|\t4\t|\t0\t|\t3\nA\t|\t0\t|\t0\t|\t0\t|\t2\t|\t6\t|\t4\t|\t8\t|\t2\t|\t5\nT\t|\t0\t|\t5\t|\t0\t|\t0\t|\t7\t|\t4\t|\t2\t|\t13\t|\t7\nA\t|\t0\t|\t0\t|\t3\t|\t0\t|\t1\t|\t5\t|\t2\t|\t7\t|\t18\n\nTraceback:\n\t#1\n\t\tSequence 1: TCGTA\n\t\tSequence 2: TCATA\n"
     ]
    }
   ]
  }
 ]
}